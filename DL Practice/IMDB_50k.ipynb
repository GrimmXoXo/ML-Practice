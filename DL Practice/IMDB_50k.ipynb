{
  "cells": [
    {
      "cell_type": "code",
      "execution_count": 1,
      "id": "a9ee00f1",
      "metadata": {
        "id": "a9ee00f1"
      },
      "outputs": [],
      "source": [
        "import pandas as pd\n",
        "from keras.datasets import imdb"
      ]
    },
    {
      "cell_type": "code",
      "source": [],
      "metadata": {
        "id": "tsi4ujSYJKLB"
      },
      "id": "tsi4ujSYJKLB",
      "execution_count": 1,
      "outputs": []
    },
    {
      "cell_type": "code",
      "execution_count": 2,
      "id": "33e01db3",
      "metadata": {
        "colab": {
          "base_uri": "https://localhost:8080/"
        },
        "id": "33e01db3",
        "outputId": "5b8648b7-08b1-4adc-fcf0-fb00d7d464c3"
      },
      "outputs": [
        {
          "output_type": "stream",
          "name": "stdout",
          "text": [
            "Downloading data from https://storage.googleapis.com/tensorflow/tf-keras-datasets/imdb.npz\n",
            "17464789/17464789 [==============================] - 0s 0us/step\n"
          ]
        }
      ],
      "source": [
        "(train_data,train_labels),(test_data,test_labels)=imdb.load_data(num_words=10000)"
      ]
    },
    {
      "cell_type": "code",
      "source": [
        "train_data.ndim"
      ],
      "metadata": {
        "colab": {
          "base_uri": "https://localhost:8080/"
        },
        "id": "cKf0OTF2CqvA",
        "outputId": "50094354-b5e8-4452-a539-4a1f76de7e5c"
      },
      "id": "cKf0OTF2CqvA",
      "execution_count": 3,
      "outputs": [
        {
          "output_type": "execute_result",
          "data": {
            "text/plain": [
              "1"
            ]
          },
          "metadata": {},
          "execution_count": 3
        }
      ]
    },
    {
      "cell_type": "code",
      "source": [
        "train_data.shape"
      ],
      "metadata": {
        "colab": {
          "base_uri": "https://localhost:8080/"
        },
        "id": "giyjxZGiCy_h",
        "outputId": "f7af3d79-fc9c-46b3-9924-1d62ec85f10e"
      },
      "id": "giyjxZGiCy_h",
      "execution_count": 4,
      "outputs": [
        {
          "output_type": "execute_result",
          "data": {
            "text/plain": [
              "(25000,)"
            ]
          },
          "metadata": {},
          "execution_count": 4
        }
      ]
    },
    {
      "cell_type": "code",
      "source": [
        "import numpy as np"
      ],
      "metadata": {
        "id": "hdgnP94KC4nb"
      },
      "id": "hdgnP94KC4nb",
      "execution_count": 5,
      "outputs": []
    },
    {
      "cell_type": "code",
      "source": [
        "m=0\n",
        "for i,v in enumerate(train_data):\n",
        "  temp=train_data[i][np.argmax(v)]\n",
        "  m=max(m,temp)"
      ],
      "metadata": {
        "id": "1vvomgc0Dy7J"
      },
      "id": "1vvomgc0Dy7J",
      "execution_count": 6,
      "outputs": []
    },
    {
      "cell_type": "code",
      "source": [
        "a=train_data[2][np.argmax(train_data[2])]"
      ],
      "metadata": {
        "id": "xthTCicoD01G"
      },
      "id": "xthTCicoD01G",
      "execution_count": 7,
      "outputs": []
    },
    {
      "cell_type": "code",
      "source": [
        "(m)"
      ],
      "metadata": {
        "colab": {
          "base_uri": "https://localhost:8080/"
        },
        "id": "WWL9XCyJD5pv",
        "outputId": "09451ec3-b7bf-4ca8-a1b2-c062ab15b9b1"
      },
      "id": "WWL9XCyJD5pv",
      "execution_count": 8,
      "outputs": [
        {
          "output_type": "execute_result",
          "data": {
            "text/plain": [
              "9999"
            ]
          },
          "metadata": {},
          "execution_count": 8
        }
      ]
    },
    {
      "cell_type": "code",
      "source": [
        "word_index=imdb.get_word_index()"
      ],
      "metadata": {
        "colab": {
          "base_uri": "https://localhost:8080/"
        },
        "id": "7_fiL01AIP_o",
        "outputId": "343640bc-4201-405a-d892-d548d46a7de8"
      },
      "id": "7_fiL01AIP_o",
      "execution_count": 9,
      "outputs": [
        {
          "output_type": "stream",
          "name": "stdout",
          "text": [
            "Downloading data from https://storage.googleapis.com/tensorflow/tf-keras-datasets/imdb_word_index.json\n",
            "1641221/1641221 [==============================] - 0s 0us/step\n"
          ]
        }
      ]
    },
    {
      "cell_type": "code",
      "source": [
        "reverse_word_index=dict([(value,key) for (key,value) in word_index.items()])"
      ],
      "metadata": {
        "id": "q4zjJ5iWKgwp"
      },
      "id": "q4zjJ5iWKgwp",
      "execution_count": 10,
      "outputs": []
    },
    {
      "cell_type": "code",
      "source": [
        "decode_review=' '.join(reverse_word_index.get(i-3,'?') for i in train_data[0])"
      ],
      "metadata": {
        "id": "4rVdv0V-Km3p"
      },
      "id": "4rVdv0V-Km3p",
      "execution_count": 11,
      "outputs": []
    },
    {
      "cell_type": "code",
      "source": [
        "decode_review"
      ],
      "metadata": {
        "colab": {
          "base_uri": "https://localhost:8080/",
          "height": 109
        },
        "id": "xtop4Xw2LOpi",
        "outputId": "f1208425-eef2-4a9e-8dd0-b226aa456598"
      },
      "id": "xtop4Xw2LOpi",
      "execution_count": 12,
      "outputs": [
        {
          "output_type": "execute_result",
          "data": {
            "text/plain": [
              "\"? this film was just brilliant casting location scenery story direction everyone's really suited the part they played and you could just imagine being there robert ? is an amazing actor and now the same being director ? father came from the same scottish island as myself so i loved the fact there was a real connection with this film the witty remarks throughout the film were great it was just brilliant so much that i bought the film as soon as it was released for ? and would recommend it to everyone to watch and the fly fishing was amazing really cried at the end it was so sad and you know what they say if you cry at a film it must have been good and this definitely was also ? to the two little boy's that played the ? of norman and paul they were just brilliant children are often left out of the ? list i think because the stars that play them all grown up are such a big profile for the whole film but these children are amazing and should be praised for what they have done don't you think the whole story was so lovely because it was true and was someone's life after all that was shared with us all\""
            ],
            "application/vnd.google.colaboratory.intrinsic+json": {
              "type": "string"
            }
          },
          "metadata": {},
          "execution_count": 12
        }
      ]
    },
    {
      "cell_type": "code",
      "source": [],
      "metadata": {
        "id": "m0L6vR_fLRc2"
      },
      "id": "m0L6vR_fLRc2",
      "execution_count": 12,
      "outputs": []
    },
    {
      "cell_type": "code",
      "source": [
        "def vectorize_sequences(sequences,dimension=10000):\n",
        "  results=np.zeros((len(sequences),dimension))\n",
        "  for i,sequence in enumerate(sequences):\n",
        "    results[i,sequence]=1\n",
        "  return results"
      ],
      "metadata": {
        "id": "H7noFoS6LdF6"
      },
      "id": "H7noFoS6LdF6",
      "execution_count": 13,
      "outputs": []
    },
    {
      "cell_type": "code",
      "source": [
        "train_data.shape"
      ],
      "metadata": {
        "colab": {
          "base_uri": "https://localhost:8080/"
        },
        "id": "bDbuLDDALnRg",
        "outputId": "a26b8de4-87d0-44d7-f6c0-f30cc6b01a98"
      },
      "id": "bDbuLDDALnRg",
      "execution_count": 14,
      "outputs": [
        {
          "output_type": "execute_result",
          "data": {
            "text/plain": [
              "(25000,)"
            ]
          },
          "metadata": {},
          "execution_count": 14
        }
      ]
    },
    {
      "cell_type": "code",
      "source": [],
      "metadata": {
        "id": "-Nz0zrXGQ8A4"
      },
      "id": "-Nz0zrXGQ8A4",
      "execution_count": 14,
      "outputs": []
    },
    {
      "cell_type": "code",
      "source": [
        "X_train=vectorize_sequences(train_data)\n",
        "X_test=vectorize_sequences(test_data)"
      ],
      "metadata": {
        "id": "SKpId426RHZ5"
      },
      "id": "SKpId426RHZ5",
      "execution_count": 15,
      "outputs": []
    },
    {
      "cell_type": "code",
      "source": [
        "X_train[0].dtype"
      ],
      "metadata": {
        "colab": {
          "base_uri": "https://localhost:8080/"
        },
        "id": "hedKysczSS2x",
        "outputId": "02345387-c28a-48bd-8bb0-016bd7ec6989"
      },
      "id": "hedKysczSS2x",
      "execution_count": 16,
      "outputs": [
        {
          "output_type": "execute_result",
          "data": {
            "text/plain": [
              "dtype('float64')"
            ]
          },
          "metadata": {},
          "execution_count": 16
        }
      ]
    },
    {
      "cell_type": "code",
      "source": [
        "y_train=np.asarray(train_labels).astype('float32')\n",
        "y_test=np.asarray(test_labels).astype('float32')"
      ],
      "metadata": {
        "id": "UA_0D60RTUSV"
      },
      "id": "UA_0D60RTUSV",
      "execution_count": 17,
      "outputs": []
    },
    {
      "cell_type": "code",
      "source": [
        "from keras import models\n",
        "from keras import layers\n",
        "\n",
        "model=models.Sequential()\n",
        "model.add(layers.Dense(16,activation='relu',input_shape=(10000,)))\n",
        "model.add(layers.Dense(16,activation='relu'))\n",
        "model.add(layers.Dense(1,activation='sigmoid'))"
      ],
      "metadata": {
        "id": "1jGEVNnVTX39"
      },
      "id": "1jGEVNnVTX39",
      "execution_count": 18,
      "outputs": []
    },
    {
      "cell_type": "code",
      "source": [
        "from keras import losses,metrics,optimizers\n",
        "model.compile(optimizer=optimizers.RMSprop(),\n",
        "              loss=losses.binary_crossentropy,\n",
        "              metrics=metrics.binary_accuracy)"
      ],
      "metadata": {
        "id": "E-h8k5vrUOXS"
      },
      "id": "E-h8k5vrUOXS",
      "execution_count": 19,
      "outputs": []
    },
    {
      "cell_type": "code",
      "source": [
        "X_val=X_train[:10000]\n",
        "partial_X_train=X_train[10000:]\n",
        "y_val=y_train[:10000]\n",
        "partial_y_train=y_test[10000:]"
      ],
      "metadata": {
        "id": "6F9i-AiRUnQx"
      },
      "id": "6F9i-AiRUnQx",
      "execution_count": 20,
      "outputs": []
    },
    {
      "cell_type": "code",
      "source": [
        "model.compile(optimizer=optimizers.RMSprop(),\n",
        "              loss=losses.binary_crossentropy,\n",
        "              metrics=['acc'])\n",
        "history=model.fit(partial_X_train,\n",
        "                  partial_y_train,\n",
        "                  epochs=20,\n",
        "                  batch_size=512,\n",
        "                  validation_data=(X_val,y_val))"
      ],
      "metadata": {
        "colab": {
          "base_uri": "https://localhost:8080/"
        },
        "id": "CZl-AhykU4dK",
        "outputId": "0c9808ee-f4a1-4cdc-c8d2-4626beeaf3a1"
      },
      "id": "CZl-AhykU4dK",
      "execution_count": 21,
      "outputs": [
        {
          "output_type": "stream",
          "name": "stdout",
          "text": [
            "Epoch 1/20\n",
            "30/30 [==============================] - 8s 216ms/step - loss: 0.6939 - acc: 0.5032 - val_loss: 0.6937 - val_acc: 0.4977\n",
            "Epoch 2/20\n",
            "30/30 [==============================] - 3s 92ms/step - loss: 0.6790 - acc: 0.5876 - val_loss: 0.6990 - val_acc: 0.5102\n",
            "Epoch 3/20\n",
            "30/30 [==============================] - 2s 79ms/step - loss: 0.6375 - acc: 0.6514 - val_loss: 0.7089 - val_acc: 0.5095\n",
            "Epoch 4/20\n",
            "30/30 [==============================] - 2s 71ms/step - loss: 0.5834 - acc: 0.7165 - val_loss: 0.7283 - val_acc: 0.5101\n",
            "Epoch 5/20\n",
            "30/30 [==============================] - 2s 73ms/step - loss: 0.5310 - acc: 0.7633 - val_loss: 0.7530 - val_acc: 0.5017\n",
            "Epoch 6/20\n",
            "30/30 [==============================] - 2s 73ms/step - loss: 0.4839 - acc: 0.7964 - val_loss: 0.7942 - val_acc: 0.4912\n",
            "Epoch 7/20\n",
            "30/30 [==============================] - 2s 54ms/step - loss: 0.4394 - acc: 0.8193 - val_loss: 0.8445 - val_acc: 0.4911\n",
            "Epoch 8/20\n",
            "30/30 [==============================] - 3s 101ms/step - loss: 0.3959 - acc: 0.8481 - val_loss: 0.8729 - val_acc: 0.4991\n",
            "Epoch 9/20\n",
            "30/30 [==============================] - 3s 112ms/step - loss: 0.3553 - acc: 0.8689 - val_loss: 0.9261 - val_acc: 0.4872\n",
            "Epoch 10/20\n",
            "30/30 [==============================] - 4s 129ms/step - loss: 0.3103 - acc: 0.8959 - val_loss: 0.9731 - val_acc: 0.4854\n",
            "Epoch 11/20\n",
            "30/30 [==============================] - 3s 94ms/step - loss: 0.2811 - acc: 0.9099 - val_loss: 1.0163 - val_acc: 0.4915\n",
            "Epoch 12/20\n",
            "30/30 [==============================] - 2s 51ms/step - loss: 0.2418 - acc: 0.9260 - val_loss: 1.0859 - val_acc: 0.4914\n",
            "Epoch 13/20\n",
            "30/30 [==============================] - 2s 58ms/step - loss: 0.2102 - acc: 0.9411 - val_loss: 1.1359 - val_acc: 0.4948\n",
            "Epoch 14/20\n",
            "30/30 [==============================] - 2s 60ms/step - loss: 0.1739 - acc: 0.9579 - val_loss: 1.2270 - val_acc: 0.4949\n",
            "Epoch 15/20\n",
            "30/30 [==============================] - 2s 72ms/step - loss: 0.1625 - acc: 0.9575 - val_loss: 1.3000 - val_acc: 0.4938\n",
            "Epoch 16/20\n",
            "30/30 [==============================] - 2s 75ms/step - loss: 0.1319 - acc: 0.9685 - val_loss: 1.3854 - val_acc: 0.4949\n",
            "Epoch 17/20\n",
            "30/30 [==============================] - 3s 96ms/step - loss: 0.1144 - acc: 0.9730 - val_loss: 1.4611 - val_acc: 0.4956\n",
            "Epoch 18/20\n",
            "30/30 [==============================] - 3s 87ms/step - loss: 0.0959 - acc: 0.9799 - val_loss: 1.5174 - val_acc: 0.4915\n",
            "Epoch 19/20\n",
            "30/30 [==============================] - 3s 93ms/step - loss: 0.0886 - acc: 0.9793 - val_loss: 1.6269 - val_acc: 0.4946\n",
            "Epoch 20/20\n",
            "30/30 [==============================] - 2s 62ms/step - loss: 0.0717 - acc: 0.9861 - val_loss: 1.6889 - val_acc: 0.4987\n"
          ]
        }
      ]
    },
    {
      "cell_type": "code",
      "source": [
        "history.history.keys()"
      ],
      "metadata": {
        "colab": {
          "base_uri": "https://localhost:8080/"
        },
        "id": "kilV6Lt5oStO",
        "outputId": "4e65bbee-909a-42a5-847f-c4afa7802fbd"
      },
      "id": "kilV6Lt5oStO",
      "execution_count": 22,
      "outputs": [
        {
          "output_type": "execute_result",
          "data": {
            "text/plain": [
              "dict_keys(['loss', 'acc', 'val_loss', 'val_acc'])"
            ]
          },
          "metadata": {},
          "execution_count": 22
        }
      ]
    },
    {
      "cell_type": "code",
      "source": [
        "import matplotlib.pyplot as plt\n",
        "history_dict=history.history\n",
        "loss_values=history_dict['loss']\n",
        "val_loss_values=history_dict['val_loss']\n",
        "\n",
        "epochs=range(1,len(history_dict['acc'])+1)\n"
      ],
      "metadata": {
        "id": "0wQtIyhEon8a"
      },
      "id": "0wQtIyhEon8a",
      "execution_count": 25,
      "outputs": []
    },
    {
      "cell_type": "code",
      "source": [
        "plt.plot(epochs,loss_values,'bo',label='training loss')\n",
        "plt.plot(epochs,val_loss_values,'b',label='validation loss')\n",
        "plt.title('Training and Validation Loss')\n",
        "plt.xlabel('Epochs')\n",
        "plt.ylabel('Loss')\n",
        "plt.legend()\n",
        "plt.show()"
      ],
      "metadata": {
        "colab": {
          "base_uri": "https://localhost:8080/",
          "height": 472
        },
        "id": "YR-j-ETDWS5F",
        "outputId": "d0acbef1-5605-4711-a3ae-e1b59e8d2730"
      },
      "id": "YR-j-ETDWS5F",
      "execution_count": 26,
      "outputs": [
        {
          "output_type": "display_data",
          "data": {
            "text/plain": [
              "<Figure size 640x480 with 1 Axes>"
            ],
            "image/png": "[encoded data removed]"
          },
          "metadata": {}
        }
      ]
    },
    {
      "cell_type": "code",
      "source": [
        "plt.clf()\n",
        "acc_values=history_dict['acc']\n",
        "val_acc_values=history_dict['val_acc']\n",
        "\n",
        "plt.plot(epochs,acc_values,'bo',label='Training Acc')\n",
        "plt.plot(epochs,val_acc_values,'b',label='Validation Acc')\n",
        "plt.title('Training and Validation Accuracy')\n",
        "plt.xlabel('Epochs')\n",
        "plt.ylabel('Accuracy')\n",
        "plt.legend()\n",
        "\n",
        "plt.show()"
      ],
      "metadata": {
        "colab": {
          "base_uri": "https://localhost:8080/",
          "height": 472
        },
        "id": "OMLv--5UWt6G",
        "outputId": "18d566b8-4edc-42e8-d907-0568e7398e66"
      },
      "id": "OMLv--5UWt6G",
      "execution_count": 28,
      "outputs": [
        {
          "output_type": "display_data",
          "data": {
            "text/plain": [
              "<Figure size 640x480 with 1 Axes>"
            ],
            "image/png": "[encoded data removed]"
          },
          "metadata": {}
        }
      ]
    },
    {
      "cell_type": "code",
      "source": [],
      "metadata": {
        "id": "IRSgDA-4Ya-J"
      },
      "id": "IRSgDA-4Ya-J",
      "execution_count": null,
      "outputs": []
    }
  ],
  "metadata": {
    "kernelspec": {
      "display_name": "Python 3",
      "name": "python3"
    },
    "colab": {
      "provenance": []
    },
    "accelerator": "TPU"
  },
  "nbformat": 4,
  "nbformat_minor": 5
}